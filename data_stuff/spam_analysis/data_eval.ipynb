{
 "cells": [
  {
   "cell_type": "code",
   "execution_count": 21,
   "metadata": {},
   "outputs": [],
   "source": [
    "import pandas as pd"
   ]
  },
  {
   "cell_type": "code",
   "execution_count": 22,
   "metadata": {},
   "outputs": [
    {
     "name": "stdout",
     "output_type": "stream",
     "text": [
      "train\n"
     ]
    }
   ],
   "source": [
    "! ls data/"
   ]
  },
  {
   "cell_type": "markdown",
   "metadata": {},
   "source": [
    "# Get the csv file with our data and set it to a pandas data frame"
   ]
  },
  {
   "cell_type": "code",
   "execution_count": 23,
   "metadata": {},
   "outputs": [],
   "source": [
    "train_data = pd.read_csv(\"data/train\", sep=\"\\t\", names=[\"true_category\", \"message\"])"
   ]
  },
  {
   "cell_type": "code",
   "execution_count": null,
   "metadata": {},
   "outputs": [],
   "source": []
  },
  {
   "cell_type": "code",
   "execution_count": null,
   "metadata": {},
   "outputs": [],
   "source": []
  },
  {
   "cell_type": "code",
   "execution_count": 24,
   "metadata": {},
   "outputs": [
    {
     "data": {
      "text/html": [
       "<div>\n",
       "<style scoped>\n",
       "    .dataframe tbody tr th:only-of-type {\n",
       "        vertical-align: middle;\n",
       "    }\n",
       "\n",
       "    .dataframe tbody tr th {\n",
       "        vertical-align: top;\n",
       "    }\n",
       "\n",
       "    .dataframe thead th {\n",
       "        text-align: right;\n",
       "    }\n",
       "</style>\n",
       "<table border=\"1\" class=\"dataframe\">\n",
       "  <thead>\n",
       "    <tr style=\"text-align: right;\">\n",
       "      <th></th>\n",
       "      <th>true_category</th>\n",
       "      <th>message</th>\n",
       "    </tr>\n",
       "  </thead>\n",
       "  <tbody>\n",
       "    <tr>\n",
       "      <th>0</th>\n",
       "      <td>ham</td>\n",
       "      <td>Go until jurong point, crazy.. Available only ...</td>\n",
       "    </tr>\n",
       "    <tr>\n",
       "      <th>1</th>\n",
       "      <td>ham</td>\n",
       "      <td>Ok lar... Joking wif u oni...</td>\n",
       "    </tr>\n",
       "    <tr>\n",
       "      <th>2</th>\n",
       "      <td>spam</td>\n",
       "      <td>Free entry in 2 a wkly comp to win FA Cup fina...</td>\n",
       "    </tr>\n",
       "    <tr>\n",
       "      <th>3</th>\n",
       "      <td>ham</td>\n",
       "      <td>U dun say so early hor... U c already then say...</td>\n",
       "    </tr>\n",
       "    <tr>\n",
       "      <th>4</th>\n",
       "      <td>ham</td>\n",
       "      <td>Nah I don't think he goes to usf, he lives aro...</td>\n",
       "    </tr>\n",
       "    <tr>\n",
       "      <th>...</th>\n",
       "      <td>...</td>\n",
       "      <td>...</td>\n",
       "    </tr>\n",
       "    <tr>\n",
       "      <th>4569</th>\n",
       "      <td>ham</td>\n",
       "      <td>hiya hows it going in sunny africa? hope u r a...</td>\n",
       "    </tr>\n",
       "    <tr>\n",
       "      <th>4570</th>\n",
       "      <td>ham</td>\n",
       "      <td>At WHAT TIME should i come tomorrow</td>\n",
       "    </tr>\n",
       "    <tr>\n",
       "      <th>4571</th>\n",
       "      <td>spam</td>\n",
       "      <td>Wanna have a laugh? Try CHIT-CHAT on your mobi...</td>\n",
       "    </tr>\n",
       "    <tr>\n",
       "      <th>4572</th>\n",
       "      <td>ham</td>\n",
       "      <td>CHA QUITEAMUZING THATSCOOL BABE,PROBPOP IN &amp; ...</td>\n",
       "    </tr>\n",
       "    <tr>\n",
       "      <th>4573</th>\n",
       "      <td>ham</td>\n",
       "      <td>Omg how did u know what I ate?</td>\n",
       "    </tr>\n",
       "  </tbody>\n",
       "</table>\n",
       "<p>4574 rows × 2 columns</p>\n",
       "</div>"
      ],
      "text/plain": [
       "     true_category                                            message\n",
       "0              ham  Go until jurong point, crazy.. Available only ...\n",
       "1              ham                      Ok lar... Joking wif u oni...\n",
       "2             spam  Free entry in 2 a wkly comp to win FA Cup fina...\n",
       "3              ham  U dun say so early hor... U c already then say...\n",
       "4              ham  Nah I don't think he goes to usf, he lives aro...\n",
       "...            ...                                                ...\n",
       "4569           ham  hiya hows it going in sunny africa? hope u r a...\n",
       "4570           ham                At WHAT TIME should i come tomorrow\n",
       "4571          spam  Wanna have a laugh? Try CHIT-CHAT on your mobi...\n",
       "4572           ham  CHA QUITEAMUZING THATSCOOL BABE,PROBPOP IN & ...\n",
       "4573           ham                     Omg how did u know what I ate?\n",
       "\n",
       "[4574 rows x 2 columns]"
      ]
     },
     "execution_count": 24,
     "metadata": {},
     "output_type": "execute_result"
    }
   ],
   "source": [
    "train_data"
   ]
  },
  {
   "cell_type": "markdown",
   "metadata": {},
   "source": [
    "- add a new columns to `df` called `predicted_category`\n",
    "- for each row in `df`, if `df[\"predicted_category\"] == df[\"true_category\"]` then you were correct!\n",
    "- for example, if the number of columns that match is 4400, then the accuracy is 4400/4573"
   ]
  },
  {
   "cell_type": "code",
   "execution_count": null,
   "metadata": {},
   "outputs": [],
   "source": []
  },
  {
   "cell_type": "code",
   "execution_count": 25,
   "metadata": {},
   "outputs": [],
   "source": [
    "# import the functions ill be using\n",
    "from version_two import train_func as set_v2\n",
    "from version_two import test_func as alg_v2"
   ]
  },
  {
   "cell_type": "markdown",
   "metadata": {},
   "source": [
    "# The variables spam, ham and len_df will be used to get the fraction of how many were correct"
   ]
  },
  {
   "cell_type": "code",
   "execution_count": null,
   "metadata": {},
   "outputs": [],
   "source": []
  },
  {
   "cell_type": "code",
   "execution_count": null,
   "metadata": {},
   "outputs": [],
   "source": []
  },
  {
   "cell_type": "code",
   "execution_count": 27,
   "metadata": {},
   "outputs": [],
   "source": [
    "def set_data(algorithm, data):\n",
    "    \"\"\"\n",
    "    This function uses the training data set to pass in the labels and \n",
    "    messages to another function which will create a dictionary that\n",
    "    looks like this.\n",
    "    dict = {\n",
    "        'how': {'spam': 10, 'ham': 450},\n",
    "        'free': {'spam': 154, 'ham': 50},\n",
    "    }\n",
    "    The point of this is to see what the probability of a word being in a\n",
    "    spam labeled message and the word being in a ham labeled message. Once \n",
    "    we have that we can run our classifier algorithm. \n",
    "    \"\"\"\n",
    "    for i in range(len(train_data)):\n",
    "        # get the message \n",
    "        sms = data['message'][i]\n",
    "        # get real label\n",
    "        label = data['true_category'][i]\n",
    "        # call function\n",
    "        algorithm(label, sms)"
   ]
  },
  {
   "cell_type": "code",
   "execution_count": null,
   "metadata": {},
   "outputs": [],
   "source": []
  },
  {
   "cell_type": "code",
   "execution_count": null,
   "metadata": {},
   "outputs": [],
   "source": []
  },
  {
   "cell_type": "code",
   "execution_count": null,
   "metadata": {},
   "outputs": [],
   "source": []
  },
  {
   "cell_type": "code",
   "execution_count": null,
   "metadata": {},
   "outputs": [],
   "source": []
  },
  {
   "cell_type": "code",
   "execution_count": null,
   "metadata": {},
   "outputs": [],
   "source": []
  },
  {
   "cell_type": "code",
   "execution_count": null,
   "metadata": {},
   "outputs": [],
   "source": []
  },
  {
   "cell_type": "code",
   "execution_count": null,
   "metadata": {},
   "outputs": [],
   "source": []
  },
  {
   "cell_type": "code",
   "execution_count": null,
   "metadata": {},
   "outputs": [],
   "source": []
  },
  {
   "cell_type": "code",
   "execution_count": 31,
   "metadata": {},
   "outputs": [],
   "source": [
    "def get_f1_score(correct_ham, correct_spam, incorrect_ham, incorrect_spam):\n",
    "    \"\"\"\n",
    "    \"\"\"\n",
    "    all_incorrect = (incorrect_ham+incorrect_spam)\n",
    "    all_correct = (correct_ham+correct_spam)\n",
    "    precision = (all_correct)/(all_correct+all_incorrect)\n",
    "    recall = (all_correct)/(all_correct+all_incorrect)\n",
    "    \n",
    "    score = (2*((precision*recall)/(precision+recall)))\n",
    "    precision_ham = (correct_ham)/(correct_ham+incorrect_ham)\n",
    "    precision_spam = (correct_spam)/(correct_spam+incorrect_spam)\n",
    "    recall_ham = (correct_ham)/(correct_ham+incorrect_ham) \n",
    "    recall_spam = (correct_spam)/(correct_spam+incorrect_spam) \n",
    "\n",
    "    \n",
    "    ham_score = 2 * ((precision_ham * recall_ham)/(precision_ham+recall_ham))\n",
    "    spam_score = 2 * ((precision_spam * recall_spam)/(precision_spam+recall_spam))\n",
    "    \n",
    "    print(\"f1: \", +score)\n",
    "    print('all correct/2: ',+ (ham_score+spam_score)/2)"
   ]
  },
  {
   "cell_type": "code",
   "execution_count": null,
   "metadata": {},
   "outputs": [],
   "source": []
  },
  {
   "cell_type": "code",
   "execution_count": 32,
   "metadata": {},
   "outputs": [],
   "source": [
    "def set_as_spam(sms):\n",
    "    train_func(sms, \"spam\")"
   ]
  },
  {
   "cell_type": "code",
   "execution_count": 33,
   "metadata": {},
   "outputs": [],
   "source": [
    "def get_accuracy(algorithm, data):\n",
    "    \"\"\"\n",
    "    This functon has to run after the set_data function and will determine\n",
    "    the accuracy of the algorithm. \n",
    "    \n",
    "    Since we now have our dictonary with the training data inputed in. We\n",
    "    can now pass in the test data into our algorithm which will return \n",
    "    ham or spam.\n",
    "    \n",
    "    This function accepts an algorithm and a dataset and produces metrics\n",
    "    which show how good the algorithm is. For instance, it prints the percentage\n",
    "    of spam texts that were accurately identified as spam.\n",
    "    \n",
    "    https://en.wikipedia.org/wiki/F1_score\n",
    "    RMSE\n",
    "    \"\"\"\n",
    "    # ammount correct for each label\n",
    "    correct_ham = 0\n",
    "    correct_spam = 0\n",
    "    correct = 0\n",
    "    \n",
    "    spam = len(data.groupby(['true_category']).get_group('spam'))\n",
    "    ham = len(data.groupby(['true_category']).get_group('ham'))\n",
    "    \n",
    "    \n",
    "#     print(spam, ham)\n",
    "    len_of_data = len(data)\n",
    "\n",
    "    for i in range(len(data)):\n",
    "        # get the message and label \n",
    "        sms = data['message'][i]\n",
    "        label = data['true_category'][i]\n",
    "        \n",
    "        # call function\n",
    "        prediction = algorithm(sms)\n",
    "\n",
    "        \n",
    "        if prediction == label:\n",
    "            # If prediction is correct we add 1\n",
    "            correct += 1\n",
    "            if prediction == 'spam':\n",
    "                # If the predicted label is spam and acutal label\n",
    "                # is spam then we add to amount correct for spam\n",
    "                correct_spam +=1\n",
    "            elif prediction =='ham':\n",
    "                # If the predicted label is ham and acutal label\n",
    "                # is spam then we add to amount correct for ham\n",
    "                correct_ham +=1\n",
    "    \n",
    "    incorrect_ham = ham-correct_ham\n",
    "    incorrect_spam = spam-correct_spam\n",
    "#     get_f1_score(correct_ham, correct_spam, incorrect_ham, incorrect_spam)\n",
    "#     print((correct_ham+correct_spam)/2)\n",
    "    print('Correct Ham: ', + correct_ham/ham)\n",
    "    print('Correct Spam: ', + correct_spam/spam)\n",
    "    print('Correct: ', + correct/len_of_data)\n",
    "\n",
    "    \n"
   ]
  },
  {
   "cell_type": "code",
   "execution_count": 34,
   "metadata": {},
   "outputs": [],
   "source": []
  },
  {
   "cell_type": "code",
   "execution_count": 35,
   "metadata": {},
   "outputs": [],
   "source": [
    "set_data(set_v2, train_data)"
   ]
  },
  {
   "cell_type": "code",
   "execution_count": 36,
   "metadata": {},
   "outputs": [
    {
     "name": "stdout",
     "output_type": "stream",
     "text": [
      "Correct Ham:  0.9992424242424243\n",
      "Correct Spam:  0.6530944625407166\n",
      "Correct:  0.9527765631832095\n"
     ]
    }
   ],
   "source": [
    "get_accuracy(alg_v2, train_data)"
   ]
  },
  {
   "cell_type": "code",
   "execution_count": null,
   "metadata": {},
   "outputs": [],
   "source": []
  },
  {
   "cell_type": "code",
   "execution_count": 37,
   "metadata": {},
   "outputs": [],
   "source": [
    "from version_three import train_func as set_v3\n",
    "from version_three import driver_func as alg_v3"
   ]
  },
  {
   "cell_type": "code",
   "execution_count": 38,
   "metadata": {},
   "outputs": [],
   "source": [
    "set_data(set_v3, train_data)"
   ]
  },
  {
   "cell_type": "code",
   "execution_count": 39,
   "metadata": {},
   "outputs": [
    {
     "name": "stdout",
     "output_type": "stream",
     "text": [
      "Correct Ham:  0.8282828282828283\n",
      "Correct Spam:  0.8517915309446255\n",
      "Correct:  0.8314385658067337\n"
     ]
    }
   ],
   "source": [
    "get_accuracy(alg_v3, train_data)"
   ]
  },
  {
   "cell_type": "code",
   "execution_count": 40,
   "metadata": {},
   "outputs": [],
   "source": [
    "from version_four import train_func as set_v4\n",
    "from version_four import driver_func as alg_v4\n",
    "from version_four import test_func as alg_v5"
   ]
  },
  {
   "cell_type": "code",
   "execution_count": 41,
   "metadata": {},
   "outputs": [],
   "source": [
    "%matplotlib inline \n",
    "import matplotlib.pyplot as plt"
   ]
  },
  {
   "cell_type": "code",
   "execution_count": 42,
   "metadata": {},
   "outputs": [],
   "source": [
    "set_data(set_v4, train_data)\n",
    "ham_points = {}\n",
    "spam_points = {}\n",
    "def get_points():\n",
    "    for i in range(len(train_data)):\n",
    "        sms = train_data['message'][i]\n",
    "        label = train_data['true_category'][i]\n",
    "        ham, spam =  alg_v4(sms)\n",
    "        if label == 'spam':\n",
    "            spam_points[i] = {'x' : ham, 'y' : spam}\n",
    "        else:\n",
    "            ham_points[i] = {'x' : ham, 'y' : spam}  "
   ]
  },
  {
   "cell_type": "code",
   "execution_count": 43,
   "metadata": {},
   "outputs": [],
   "source": [
    "get_points()"
   ]
  },
  {
   "cell_type": "code",
   "execution_count": null,
   "metadata": {},
   "outputs": [],
   "source": []
  },
  {
   "cell_type": "code",
   "execution_count": 44,
   "metadata": {},
   "outputs": [],
   "source": [
    "spam_x = []\n",
    "spam_y = []\n",
    "for key in spam_points:\n",
    "    val = key\n",
    "    x = spam_points[val]['x']\n",
    "    y = spam_points[val]['y']\n",
    "    spam_x.append(x)\n",
    "    spam_y.append(y)"
   ]
  },
  {
   "cell_type": "code",
   "execution_count": 45,
   "metadata": {},
   "outputs": [],
   "source": [
    "ham_x = []\n",
    "ham_y = []\n",
    "for key in ham_points:\n",
    "    val = key\n",
    "    x = ham_points[val]['x']\n",
    "    y = ham_points[val]['y']\n",
    "    ham_x.append(x)\n",
    "    ham_y.append(y)"
   ]
  },
  {
   "cell_type": "code",
   "execution_count": 46,
   "metadata": {},
   "outputs": [],
   "source": [
    "# %matplotlib inline \n",
    "# plt.scatter(spam_x, spam_y, color='r')\n",
    "# plt.scatter(ham_x, ham_y, color='b')\n",
    "# plt.xlabel('# Spam')\n",
    "# plt.ylabel('# Ham')\n",
    "# plt.grid(True)\n",
    "# plt.show();"
   ]
  },
  {
   "cell_type": "code",
   "execution_count": 47,
   "metadata": {},
   "outputs": [
    {
     "name": "stdout",
     "output_type": "stream",
     "text": [
      "Correct Ham:  0.9959595959595959\n",
      "Correct Spam:  0.9527687296416938\n",
      "Correct:  0.990161783996502\n"
     ]
    }
   ],
   "source": [
    "get_accuracy(alg_v5, train_data)"
   ]
  },
  {
   "cell_type": "code",
   "execution_count": null,
   "metadata": {},
   "outputs": [],
   "source": []
  },
  {
   "cell_type": "code",
   "execution_count": null,
   "metadata": {},
   "outputs": [],
   "source": []
  }
 ],
 "metadata": {
  "kernelspec": {
   "display_name": "Python 3",
   "language": "python",
   "name": "python3"
  },
  "language_info": {
   "codemirror_mode": {
    "name": "ipython",
    "version": 3
   },
   "file_extension": ".py",
   "mimetype": "text/x-python",
   "name": "python",
   "nbconvert_exporter": "python",
   "pygments_lexer": "ipython3",
   "version": "3.7.3"
  }
 },
 "nbformat": 4,
 "nbformat_minor": 4
}
