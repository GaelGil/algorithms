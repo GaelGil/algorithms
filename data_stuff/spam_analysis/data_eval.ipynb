{
 "cells": [
  {
   "cell_type": "code",
   "execution_count": 1,
   "metadata": {},
   "outputs": [],
   "source": [
    "import pandas as pd"
   ]
  },
  {
   "cell_type": "code",
   "execution_count": 2,
   "metadata": {},
   "outputs": [
    {
     "name": "stdout",
     "output_type": "stream",
     "text": [
      "test  train\n"
     ]
    }
   ],
   "source": [
    "! ls data/"
   ]
  },
  {
   "cell_type": "markdown",
   "metadata": {},
   "source": [
    "# Get the csv file with our data and set it to a pandas data frame"
   ]
  },
  {
   "cell_type": "code",
   "execution_count": 40,
   "metadata": {},
   "outputs": [],
   "source": [
    "train_data = pd.read_csv(\"data/train\", sep=\"\\t\", names=[\"true_category\", \"message\"])"
   ]
  },
  {
   "cell_type": "code",
   "execution_count": 5,
   "metadata": {},
   "outputs": [],
   "source": [
    "# example_message_ham = df[\"message\"][0]\n",
    "# example_message_spam = df[\"message\"][2]\n",
    "\n",
    "# example_message_ham"
   ]
  },
  {
   "cell_type": "code",
   "execution_count": 6,
   "metadata": {},
   "outputs": [],
   "source": [
    "# example_message_spam\n",
    "# df.drop(['predicted'], axis=1)\n",
    "# df.insert(['predicted'], )"
   ]
  },
  {
   "cell_type": "code",
   "execution_count": 4,
   "metadata": {},
   "outputs": [
    {
     "data": {
      "text/html": [
       "<div>\n",
       "<style scoped>\n",
       "    .dataframe tbody tr th:only-of-type {\n",
       "        vertical-align: middle;\n",
       "    }\n",
       "\n",
       "    .dataframe tbody tr th {\n",
       "        vertical-align: top;\n",
       "    }\n",
       "\n",
       "    .dataframe thead th {\n",
       "        text-align: right;\n",
       "    }\n",
       "</style>\n",
       "<table border=\"1\" class=\"dataframe\">\n",
       "  <thead>\n",
       "    <tr style=\"text-align: right;\">\n",
       "      <th></th>\n",
       "      <th>true_category</th>\n",
       "      <th>message</th>\n",
       "    </tr>\n",
       "  </thead>\n",
       "  <tbody>\n",
       "    <tr>\n",
       "      <th>0</th>\n",
       "      <td>ham</td>\n",
       "      <td>Go until jurong point, crazy.. Available only ...</td>\n",
       "    </tr>\n",
       "    <tr>\n",
       "      <th>1</th>\n",
       "      <td>ham</td>\n",
       "      <td>Ok lar... Joking wif u oni...</td>\n",
       "    </tr>\n",
       "    <tr>\n",
       "      <th>2</th>\n",
       "      <td>spam</td>\n",
       "      <td>Free entry in 2 a wkly comp to win FA Cup fina...</td>\n",
       "    </tr>\n",
       "    <tr>\n",
       "      <th>3</th>\n",
       "      <td>ham</td>\n",
       "      <td>U dun say so early hor... U c already then say...</td>\n",
       "    </tr>\n",
       "    <tr>\n",
       "      <th>4</th>\n",
       "      <td>ham</td>\n",
       "      <td>Nah I don't think he goes to usf, he lives aro...</td>\n",
       "    </tr>\n",
       "    <tr>\n",
       "      <th>...</th>\n",
       "      <td>...</td>\n",
       "      <td>...</td>\n",
       "    </tr>\n",
       "    <tr>\n",
       "      <th>4569</th>\n",
       "      <td>ham</td>\n",
       "      <td>hiya hows it going in sunny africa? hope u r a...</td>\n",
       "    </tr>\n",
       "    <tr>\n",
       "      <th>4570</th>\n",
       "      <td>ham</td>\n",
       "      <td>At WHAT TIME should i come tomorrow</td>\n",
       "    </tr>\n",
       "    <tr>\n",
       "      <th>4571</th>\n",
       "      <td>spam</td>\n",
       "      <td>Wanna have a laugh? Try CHIT-CHAT on your mobi...</td>\n",
       "    </tr>\n",
       "    <tr>\n",
       "      <th>4572</th>\n",
       "      <td>ham</td>\n",
       "      <td>CHA QUITEAMUZING THATSCOOL BABE,PROBPOP IN &amp; ...</td>\n",
       "    </tr>\n",
       "    <tr>\n",
       "      <th>4573</th>\n",
       "      <td>ham</td>\n",
       "      <td>Omg how did u know what I ate?</td>\n",
       "    </tr>\n",
       "  </tbody>\n",
       "</table>\n",
       "<p>4574 rows × 2 columns</p>\n",
       "</div>"
      ],
      "text/plain": [
       "     true_category                                            message\n",
       "0              ham  Go until jurong point, crazy.. Available only ...\n",
       "1              ham                      Ok lar... Joking wif u oni...\n",
       "2             spam  Free entry in 2 a wkly comp to win FA Cup fina...\n",
       "3              ham  U dun say so early hor... U c already then say...\n",
       "4              ham  Nah I don't think he goes to usf, he lives aro...\n",
       "...            ...                                                ...\n",
       "4569           ham  hiya hows it going in sunny africa? hope u r a...\n",
       "4570           ham                At WHAT TIME should i come tomorrow\n",
       "4571          spam  Wanna have a laugh? Try CHIT-CHAT on your mobi...\n",
       "4572           ham  CHA QUITEAMUZING THATSCOOL BABE,PROBPOP IN & ...\n",
       "4573           ham                     Omg how did u know what I ate?\n",
       "\n",
       "[4574 rows x 2 columns]"
      ]
     },
     "execution_count": 4,
     "metadata": {},
     "output_type": "execute_result"
    }
   ],
   "source": [
    "df"
   ]
  },
  {
   "cell_type": "markdown",
   "metadata": {},
   "source": [
    "- add a new columns to `df` called `predicted_category`\n",
    "- for each row in `df`, if `df[\"predicted_category\"] == df[\"true_category\"]` then you were correct!\n",
    "- for example, if the number of columns that match is 4400, then the accuracy is 4400/4573"
   ]
  },
  {
   "cell_type": "code",
   "execution_count": 5,
   "metadata": {},
   "outputs": [],
   "source": []
  },
  {
   "cell_type": "code",
   "execution_count": 5,
   "metadata": {},
   "outputs": [],
   "source": [
    "# import the functions ill be using\n",
    "from version_two import train_func\n",
    "from version_two import test_func"
   ]
  },
  {
   "cell_type": "markdown",
   "metadata": {},
   "source": [
    "# The variables spam, ham and len_df will be used to get the fraction of how many were correct"
   ]
  },
  {
   "cell_type": "code",
   "execution_count": 6,
   "metadata": {},
   "outputs": [],
   "source": [
    "# spam = df.groupby(['true_category']).get_group('spam')\n",
    "# spam = len(spam)\n",
    "# ham = df.groupby(['true_category']).get_group('ham')\n",
    "# ham = len(ham)\n",
    "# len_df = len(df)"
   ]
  },
  {
   "cell_type": "code",
   "execution_count": 24,
   "metadata": {},
   "outputs": [],
   "source": []
  },
  {
   "cell_type": "code",
   "execution_count": 7,
   "metadata": {},
   "outputs": [],
   "source": [
    "def set_data():\n",
    "    \"\"\"\n",
    "    This function uses the training data set to pass in the labels and \n",
    "    messages to another function which will create a dictionary that\n",
    "    looks like this.\n",
    "    dict = {\n",
    "        'how': {'spam': 10, 'ham': 450},\n",
    "        'free': {'spam': 154, 'ham': 50},\n",
    "    }\n",
    "    The point of this is to see what the probability of a word being in a\n",
    "    spam labeled message and the word being in a ham labeled message. Once \n",
    "    we have that we can run our classifier algorithm. \n",
    "    \"\"\"\n",
    "    for i in range(len(df)):\n",
    "        # get the message \n",
    "        sms = df['message'][i]\n",
    "        # get real label\n",
    "        label = df['true_category'][i]\n",
    "        # call function\n",
    "        train_func(label, sms)"
   ]
  },
  {
   "cell_type": "code",
   "execution_count": 8,
   "metadata": {},
   "outputs": [],
   "source": [
    "set_data()"
   ]
  },
  {
   "cell_type": "code",
   "execution_count": 34,
   "metadata": {},
   "outputs": [],
   "source": []
  },
  {
   "cell_type": "code",
   "execution_count": 9,
   "metadata": {},
   "outputs": [],
   "source": [
    "def get_alg_accuracy() -> float:\n",
    "    \"\"\"\n",
    "    This functon has to run after the set_data function and will determine\n",
    "    the accuracy of the algorithm. \n",
    "    \n",
    "    Since we now have our dictonary with the training data inputed in. We\n",
    "    can now pass in the test data into our algorithm which will return \n",
    "    ham or spam.\n",
    "    \"\"\"\n",
    "    # These variables are to keep track of \n",
    "    correct_ham = 0\n",
    "    correct_spam = 0\n",
    "    correct = 0\n",
    "    \n",
    "    for i in range(len(df)):\n",
    "        # get the message and label \n",
    "        sms = df['message'][i]\n",
    "        label = df['true_category'][i]\n",
    "        \n",
    "        # call function\n",
    "        prediction = test_func(sms)\n",
    "\n",
    "        \n",
    "        if prediction == label:\n",
    "            # If prediction is correct we add 1\n",
    "            correct += 1\n",
    "            if prediction == 'spam':\n",
    "                # If the predicted label is spam and acutal label\n",
    "                # is spam then we add to amount correct for spam\n",
    "                correct_spam +=1\n",
    "            elif prediction =='ham':\n",
    "                # If the predicted label is ham and acutal label\n",
    "                # is spam then we add to amount correct for ham\n",
    "                correct_ham +=1\n",
    "    \n",
    "    \n",
    "    fraction_correct = (correct)/(len_df)\n",
    "    \n",
    "    print('Correct Ham', + correct_ham/ham)\n",
    "    print('Correct Spam', + correct_spam/spam)\n",
    "    print(' ')\n",
    "    return(fraction_correct)"
   ]
  },
  {
   "cell_type": "code",
   "execution_count": 10,
   "metadata": {},
   "outputs": [
    {
     "name": "stdout",
     "output_type": "stream",
     "text": [
      "Correct Ham 0.9992424242424243\n",
      "Correct Spam 0.6368078175895765\n",
      " \n",
      "0.9505902929602099\n"
     ]
    }
   ],
   "source": [
    "print(get_alg_accuracy())"
   ]
  },
  {
   "cell_type": "code",
   "execution_count": null,
   "metadata": {},
   "outputs": [],
   "source": []
  },
  {
   "cell_type": "code",
   "execution_count": null,
   "metadata": {},
   "outputs": [],
   "source": []
  },
  {
   "cell_type": "code",
   "execution_count": 11,
   "metadata": {},
   "outputs": [],
   "source": [
    "# test_data = pd.read_csv(\"data/test\", sep=\"\\t\", names=[\"true_category\", \"message\"])"
   ]
  },
  {
   "cell_type": "code",
   "execution_count": 18,
   "metadata": {},
   "outputs": [],
   "source": [
    "# spam_test = test_data.groupby(['true_category']).get_group('spam')\n",
    "# # spam = len(spam)\n",
    "# ham_test = test_data.groupby(['true_category']).get_group('ham')\n",
    "# # ham = len(ham)\n",
    "# len_test = len(test_data)"
   ]
  },
  {
   "cell_type": "code",
   "execution_count": 23,
   "metadata": {},
   "outputs": [],
   "source": [
    "def get_alg_accuracy_test_data() -> float:\n",
    "    \"\"\"\n",
    "    This functon has to run after the set_data function and will determine\n",
    "    the accuracy of the algorithm. \n",
    "    \n",
    "    Since we now have our dictonary with the training data inputed in. We\n",
    "    can now pass in the test data into our algorithm which will return \n",
    "    ham or spam.\n",
    "    \"\"\"\n",
    "    # These variables are to keep track of \n",
    "    correct_ham = 0\n",
    "    correct_spam = 0\n",
    "    correct = 0\n",
    "    \n",
    "    for i in range(len(test_data)):\n",
    "        # get the message and label \n",
    "        sms = test_data['message'][i]\n",
    "        label = test_data['true_category'][i]\n",
    "        \n",
    "        # call function\n",
    "        prediction = test_func(sms)\n",
    "\n",
    "        \n",
    "        if prediction == label:\n",
    "            # If prediction is correct we add 1\n",
    "            correct += 1\n",
    "            if prediction == 'spam':\n",
    "                # If the predicted label is spam and acutal label\n",
    "                # is spam then we add to amount correct for spam\n",
    "                correct_spam +=1\n",
    "            elif prediction =='ham':\n",
    "                # If the predicted label is ham and acutal label\n",
    "                # is spam then we add to amount correct for ham\n",
    "                correct_ham +=1\n",
    "    \n",
    "    \n",
    "    fraction_correct = (correct)/(len(test_data))\n",
    "    ham = (correct_ham/ham_test)\n",
    "    spam = (correct_spam/spam_test)\n",
    "#     print('Correct', + correct)\n",
    "    print('Correct Ham', + ham)\n",
    "    print('Correct Spam', + spam)\n",
    "    print(' ')\n",
    "    return(fraction_correct)"
   ]
  },
  {
   "cell_type": "markdown",
   "metadata": {},
   "source": [
    "get_alg_accuracy_test_data()"
   ]
  },
  {
   "cell_type": "code",
   "execution_count": 37,
   "metadata": {},
   "outputs": [],
   "source": [
    "def get_accuracy(algorithm, data):\n",
    "    \"\"\"\n",
    "    This function accepts an algorithm and a dataset and produces metrics\n",
    "    which show how good the algorithm is. For instance, it prints the percentage\n",
    "    of spam texts that were accurately identified as spam.\n",
    "    \n",
    "    https://en.wikipedia.org/wiki/F1_score\n",
    "    RMSE\n",
    "    \"\"\"\n",
    "    # ammount correct for each label\n",
    "    correct_ham = 0\n",
    "    correct_spam = 0\n",
    "    correct = 0\n",
    "    \n",
    "    spam = len(data.groupby(['true_category']).get_group('spam'))\n",
    "    ham = len(data.groupby(['true_category']).get_group('ham'))\n",
    "    \n",
    "    \n",
    "    print(spam, ham)\n",
    "    len_of_data = len(data)\n",
    "\n",
    "    for i in range(len(data)):\n",
    "        # get the message and label \n",
    "        sms = data['message'][i]\n",
    "        label = data['true_category'][i]\n",
    "        \n",
    "        # call function\n",
    "        prediction = algorithm(sms)\n",
    "\n",
    "        \n",
    "        if prediction == label:\n",
    "            # If prediction is correct we add 1\n",
    "            correct += 1\n",
    "            if prediction == 'spam':\n",
    "                # If the predicted label is spam and acutal label\n",
    "                # is spam then we add to amount correct for spam\n",
    "                correct_spam +=1\n",
    "            elif prediction =='ham':\n",
    "                # If the predicted label is ham and acutal label\n",
    "                # is spam then we add to amount correct for ham\n",
    "                correct_ham +=1\n",
    "    \n",
    "    print('Correct Ham', + correct_ham/ham)\n",
    "    print('Correct Spam', + correct_spam/spam)\n",
    "    print('Correct', + correct/len_of_data)\n",
    "\n",
    "    \n"
   ]
  },
  {
   "cell_type": "code",
   "execution_count": 42,
   "metadata": {},
   "outputs": [
    {
     "name": "stdout",
     "output_type": "stream",
     "text": [
      "133 865\n",
      "Correct Ham 0.9965317919075144\n",
      "Correct Spam 0.6015037593984962\n",
      "Correct 0.9438877755511023\n"
     ]
    }
   ],
   "source": [
    "get_accuracy(test_func, test_data)"
   ]
  },
  {
   "cell_type": "code",
   "execution_count": 41,
   "metadata": {},
   "outputs": [
    {
     "name": "stdout",
     "output_type": "stream",
     "text": [
      "614 3960\n",
      "Correct Ham 0.9992424242424243\n",
      "Correct Spam 0.6465798045602605\n",
      "Correct 0.9519020550940096\n"
     ]
    }
   ],
   "source": [
    "get_accuracy(test_func, train_data)"
   ]
  },
  {
   "cell_type": "code",
   "execution_count": 43,
   "metadata": {},
   "outputs": [
    {
     "data": {
      "text/html": [
       "<div>\n",
       "<style scoped>\n",
       "    .dataframe tbody tr th:only-of-type {\n",
       "        vertical-align: middle;\n",
       "    }\n",
       "\n",
       "    .dataframe tbody tr th {\n",
       "        vertical-align: top;\n",
       "    }\n",
       "\n",
       "    .dataframe thead th {\n",
       "        text-align: right;\n",
       "    }\n",
       "</style>\n",
       "<table border=\"1\" class=\"dataframe\">\n",
       "  <thead>\n",
       "    <tr style=\"text-align: right;\">\n",
       "      <th></th>\n",
       "      <th>true_category</th>\n",
       "      <th>message</th>\n",
       "    </tr>\n",
       "  </thead>\n",
       "  <tbody>\n",
       "    <tr>\n",
       "      <th>0</th>\n",
       "      <td>ham</td>\n",
       "      <td>Go until jurong point, crazy.. Available only ...</td>\n",
       "    </tr>\n",
       "    <tr>\n",
       "      <th>1</th>\n",
       "      <td>ham</td>\n",
       "      <td>Ok lar... Joking wif u oni...</td>\n",
       "    </tr>\n",
       "    <tr>\n",
       "      <th>2</th>\n",
       "      <td>spam</td>\n",
       "      <td>Free entry in 2 a wkly comp to win FA Cup fina...</td>\n",
       "    </tr>\n",
       "    <tr>\n",
       "      <th>3</th>\n",
       "      <td>ham</td>\n",
       "      <td>U dun say so early hor... U c already then say...</td>\n",
       "    </tr>\n",
       "    <tr>\n",
       "      <th>4</th>\n",
       "      <td>ham</td>\n",
       "      <td>Nah I don't think he goes to usf, he lives aro...</td>\n",
       "    </tr>\n",
       "    <tr>\n",
       "      <th>...</th>\n",
       "      <td>...</td>\n",
       "      <td>...</td>\n",
       "    </tr>\n",
       "    <tr>\n",
       "      <th>4569</th>\n",
       "      <td>ham</td>\n",
       "      <td>hiya hows it going in sunny africa? hope u r a...</td>\n",
       "    </tr>\n",
       "    <tr>\n",
       "      <th>4570</th>\n",
       "      <td>ham</td>\n",
       "      <td>At WHAT TIME should i come tomorrow</td>\n",
       "    </tr>\n",
       "    <tr>\n",
       "      <th>4571</th>\n",
       "      <td>spam</td>\n",
       "      <td>Wanna have a laugh? Try CHIT-CHAT on your mobi...</td>\n",
       "    </tr>\n",
       "    <tr>\n",
       "      <th>4572</th>\n",
       "      <td>ham</td>\n",
       "      <td>CHA QUITEAMUZING THATSCOOL BABE,PROBPOP IN &amp; ...</td>\n",
       "    </tr>\n",
       "    <tr>\n",
       "      <th>4573</th>\n",
       "      <td>ham</td>\n",
       "      <td>Omg how did u know what I ate?</td>\n",
       "    </tr>\n",
       "  </tbody>\n",
       "</table>\n",
       "<p>4574 rows × 2 columns</p>\n",
       "</div>"
      ],
      "text/plain": [
       "     true_category                                            message\n",
       "0              ham  Go until jurong point, crazy.. Available only ...\n",
       "1              ham                      Ok lar... Joking wif u oni...\n",
       "2             spam  Free entry in 2 a wkly comp to win FA Cup fina...\n",
       "3              ham  U dun say so early hor... U c already then say...\n",
       "4              ham  Nah I don't think he goes to usf, he lives aro...\n",
       "...            ...                                                ...\n",
       "4569           ham  hiya hows it going in sunny africa? hope u r a...\n",
       "4570           ham                At WHAT TIME should i come tomorrow\n",
       "4571          spam  Wanna have a laugh? Try CHIT-CHAT on your mobi...\n",
       "4572           ham  CHA QUITEAMUZING THATSCOOL BABE,PROBPOP IN & ...\n",
       "4573           ham                     Omg how did u know what I ate?\n",
       "\n",
       "[4574 rows x 2 columns]"
      ]
     },
     "execution_count": 43,
     "metadata": {},
     "output_type": "execute_result"
    }
   ],
   "source": []
  },
  {
   "cell_type": "code",
   "execution_count": null,
   "metadata": {},
   "outputs": [],
   "source": [
    "def memorize_alg(thing_to_be_scored, training_dataset):\n",
    "    \"\"\"\n",
    "    This algorithm takes the training data (which is the ONLY data we will have\n",
    "    if we're data scientists) and splits the training data into two lists: a list\n",
    "    of HAM messages and a list of SPAM messages. If `thing_to_be_scored` is in HAM,\n",
    "    this function returns HAM. If `thing_to_be_scored` is in SPAM, this function returns\n",
    "    SPAM. If `thing_to_be_scored` is is neither....\n",
    "    \"\"\"\n",
    "    \n",
    "    \"\"\"\n",
    "    HINTS:\n",
    "    normal the text: \"Wanna hang out??\"  -->  \"wnn hng t\"\n",
    "    \n",
    "    def distance(txt_1, txt_2)\n",
    "    \n",
    "        distance(\"whats up\", \"wha's upp\") == 4\n",
    "        distance(\"whats up\", \"buy free stuff\") = 85\n",
    "        \n",
    "        EDIT DISTANCE\n",
    "    \"\"\"\n",
    "    \n",
    "    pass"
   ]
  },
  {
   "cell_type": "code",
   "execution_count": null,
   "metadata": {},
   "outputs": [],
   "source": [
    "memorize_alg_v1"
   ]
  }
 ],
 "metadata": {
  "kernelspec": {
   "display_name": "Python 3",
   "language": "python",
   "name": "python3"
  },
  "language_info": {
   "codemirror_mode": {
    "name": "ipython",
    "version": 3
   },
   "file_extension": ".py",
   "mimetype": "text/x-python",
   "name": "python",
   "nbconvert_exporter": "python",
   "pygments_lexer": "ipython3",
   "version": "3.7.3"
  }
 },
 "nbformat": 4,
 "nbformat_minor": 4
}
