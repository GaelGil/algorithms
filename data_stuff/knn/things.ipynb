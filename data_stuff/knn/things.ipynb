{
 "cells": [
  {
   "cell_type": "code",
   "execution_count": null,
   "metadata": {},
   "outputs": [],
   "source": [
    "import pandas as pd\n",
    "import matplotlib.pyplot as plt\n",
    "from matplotlib.pyplot import figure, show\n",
    "import numpy as np\n",
    "from collections import Counter"
   ]
  },
  {
   "cell_type": "code",
   "execution_count": null,
   "metadata": {},
   "outputs": [],
   "source": [
    "data = pd.read_csv(\"data.csv\", names=[\"gender\", \"height\", \"weight\"])\n",
    "df = pd.DataFrame(data) "
   ]
  },
  {
   "cell_type": "code",
   "execution_count": null,
   "metadata": {},
   "outputs": [],
   "source": [
    "df"
   ]
  },
  {
   "cell_type": "code",
   "execution_count": null,
   "metadata": {},
   "outputs": [],
   "source": [
    "s = 5000\n",
    "male = df[df.index<s]\n",
    "female = df[df.index >= s]"
   ]
  },
  {
   "cell_type": "code",
   "execution_count": null,
   "metadata": {},
   "outputs": [],
   "source": [
    "male"
   ]
  },
  {
   "cell_type": "code",
   "execution_count": null,
   "metadata": {},
   "outputs": [],
   "source": [
    "female"
   ]
  },
  {
   "cell_type": "code",
   "execution_count": null,
   "metadata": {},
   "outputs": [],
   "source": [
    "m_height = male['height']\n",
    "m_weight = male['weight']\n",
    "f_height = female['height']\n",
    "f_weight = female['weight']"
   ]
  },
  {
   "cell_type": "code",
   "execution_count": null,
   "metadata": {},
   "outputs": [],
   "source": [
    "#graph doesnt show up for some reason\n",
    "plt.scatter(m_height,m_weight, color='b')\n",
    "plt.scatter(f_height,f_weight, color='r')\n",
    "plt.xlabel('Height)')\n",
    "plt.ylabel('Weight')\n",
    "plt.grid(True)\n",
    "plt.show();"
   ]
  },
  {
   "cell_type": "code",
   "execution_count": null,
   "metadata": {},
   "outputs": [],
   "source": [
    "class KNNClassifier:\n",
    "    def __init__(self):\n",
    "        self.x = None\n",
    "        self.y = None\n",
    "        \n",
    "    def fit(self, x, y):\n",
    "        self.x = x\n",
    "        self.y = y\n",
    "        \n",
    "    def _distance(self, a, b):\n",
    "        a = np.array(a, dtype=float)\n",
    "        b = np.array(b, dtype=float)\n",
    "        return np.linalg.norm(a - b)\n",
    "    \n",
    "    def predict(self, input_, k):\n",
    "        # Make sure the data is in a float format instead of strings\n",
    "        x = np.array(self.x, dtype=float)\n",
    "        \n",
    "        # Combine together x and y data into one list of tuples\n",
    "        xy = list(zip(x, self.y))\n",
    "        \n",
    "        # Add distance to each tuple.\n",
    "        # But what distance is the correct type of distance?\n",
    "        xy_dist = [(x, y, self._distance(x, input_)) for (x, y) in xy]\n",
    "        \n",
    "        # Sort by the distance element in the tuple.\n",
    "        xy_sorted = sorted(xy_dist, key=lambda x: x[2])\n",
    "        \n",
    "        # Pull out the class names from the tuples.\n",
    "        classes = [i[1] for i in xy_sorted]\n",
    "        \n",
    "        # Count the most frequent class,\n",
    "        c = Counter(classes[:k])\n",
    "\n",
    "        # Use list comprehension to grab the class from the counter.\n",
    "        most_common_class = c.most_common(1)[0][0]\n",
    "        \n",
    "        return most_common_class"
   ]
  },
  {
   "cell_type": "code",
   "execution_count": null,
   "metadata": {},
   "outputs": [],
   "source": [
    "# For both m and f we have 5000 records \n",
    "# Get 1250 from both male and female and\n",
    "# label that as train_m train_f\n",
    "# run those through the function and\n",
    "# then run the rest of the data"
   ]
  },
  {
   "cell_type": "code",
   "execution_count": null,
   "metadata": {},
   "outputs": [],
   "source": []
  }
 ],
 "metadata": {
  "kernelspec": {
   "display_name": "Python 3",
   "language": "python",
   "name": "python3"
  },
  "language_info": {
   "codemirror_mode": {
    "name": "ipython",
    "version": 3
   },
   "file_extension": ".py",
   "mimetype": "text/x-python",
   "name": "python",
   "nbconvert_exporter": "python",
   "pygments_lexer": "ipython3",
   "version": "3.7.3"
  }
 },
 "nbformat": 4,
 "nbformat_minor": 4
}
