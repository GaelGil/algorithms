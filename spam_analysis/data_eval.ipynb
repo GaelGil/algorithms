{
 "cells": [
  {
   "cell_type": "code",
   "execution_count": 1,
   "metadata": {},
   "outputs": [],
   "source": [
    "import pandas as pd"
   ]
  },
  {
   "cell_type": "code",
   "execution_count": 2,
   "metadata": {},
   "outputs": [
    {
     "name": "stdout",
     "output_type": "stream",
     "text": [
      "train\n"
     ]
    }
   ],
   "source": [
    "! ls data/"
   ]
  },
  {
   "cell_type": "code",
   "execution_count": 3,
   "metadata": {},
   "outputs": [],
   "source": [
    "df = pd.read_csv(\"data/train\", sep=\"\\t\", names=[\"true_category\", \"message\"])"
   ]
  },
  {
   "cell_type": "code",
   "execution_count": 4,
   "metadata": {},
   "outputs": [
    {
     "data": {
      "text/html": [
       "<div>\n",
       "<style scoped>\n",
       "    .dataframe tbody tr th:only-of-type {\n",
       "        vertical-align: middle;\n",
       "    }\n",
       "\n",
       "    .dataframe tbody tr th {\n",
       "        vertical-align: top;\n",
       "    }\n",
       "\n",
       "    .dataframe thead th {\n",
       "        text-align: right;\n",
       "    }\n",
       "</style>\n",
       "<table border=\"1\" class=\"dataframe\">\n",
       "  <thead>\n",
       "    <tr style=\"text-align: right;\">\n",
       "      <th></th>\n",
       "      <th>true_category</th>\n",
       "      <th>message</th>\n",
       "    </tr>\n",
       "  </thead>\n",
       "  <tbody>\n",
       "    <tr>\n",
       "      <td>0</td>\n",
       "      <td>ham</td>\n",
       "      <td>Go until jurong point, crazy.. Available only ...</td>\n",
       "    </tr>\n",
       "    <tr>\n",
       "      <td>1</td>\n",
       "      <td>ham</td>\n",
       "      <td>Ok lar... Joking wif u oni...</td>\n",
       "    </tr>\n",
       "    <tr>\n",
       "      <td>2</td>\n",
       "      <td>spam</td>\n",
       "      <td>Free entry in 2 a wkly comp to win FA Cup fina...</td>\n",
       "    </tr>\n",
       "    <tr>\n",
       "      <td>3</td>\n",
       "      <td>ham</td>\n",
       "      <td>U dun say so early hor... U c already then say...</td>\n",
       "    </tr>\n",
       "    <tr>\n",
       "      <td>4</td>\n",
       "      <td>ham</td>\n",
       "      <td>Nah I don't think he goes to usf, he lives aro...</td>\n",
       "    </tr>\n",
       "    <tr>\n",
       "      <td>...</td>\n",
       "      <td>...</td>\n",
       "      <td>...</td>\n",
       "    </tr>\n",
       "    <tr>\n",
       "      <td>4569</td>\n",
       "      <td>ham</td>\n",
       "      <td>hiya hows it going in sunny africa? hope u r a...</td>\n",
       "    </tr>\n",
       "    <tr>\n",
       "      <td>4570</td>\n",
       "      <td>ham</td>\n",
       "      <td>At WHAT TIME should i come tomorrow</td>\n",
       "    </tr>\n",
       "    <tr>\n",
       "      <td>4571</td>\n",
       "      <td>spam</td>\n",
       "      <td>Wanna have a laugh? Try CHIT-CHAT on your mobi...</td>\n",
       "    </tr>\n",
       "    <tr>\n",
       "      <td>4572</td>\n",
       "      <td>ham</td>\n",
       "      <td>CHA QUITEAMUZING THATSCOOL BABE,PROBPOP IN &amp; ...</td>\n",
       "    </tr>\n",
       "    <tr>\n",
       "      <td>4573</td>\n",
       "      <td>ham</td>\n",
       "      <td>Omg how did u know what I ate?</td>\n",
       "    </tr>\n",
       "  </tbody>\n",
       "</table>\n",
       "<p>4574 rows × 2 columns</p>\n",
       "</div>"
      ],
      "text/plain": [
       "     true_category                                            message\n",
       "0              ham  Go until jurong point, crazy.. Available only ...\n",
       "1              ham                      Ok lar... Joking wif u oni...\n",
       "2             spam  Free entry in 2 a wkly comp to win FA Cup fina...\n",
       "3              ham  U dun say so early hor... U c already then say...\n",
       "4              ham  Nah I don't think he goes to usf, he lives aro...\n",
       "...            ...                                                ...\n",
       "4569           ham  hiya hows it going in sunny africa? hope u r a...\n",
       "4570           ham                At WHAT TIME should i come tomorrow\n",
       "4571          spam  Wanna have a laugh? Try CHIT-CHAT on your mobi...\n",
       "4572           ham  CHA QUITEAMUZING THATSCOOL BABE,PROBPOP IN & ...\n",
       "4573           ham                     Omg how did u know what I ate?\n",
       "\n",
       "[4574 rows x 2 columns]"
      ]
     },
     "execution_count": 4,
     "metadata": {},
     "output_type": "execute_result"
    }
   ],
   "source": [
    "df"
   ]
  },
  {
   "cell_type": "code",
   "execution_count": 5,
   "metadata": {},
   "outputs": [],
   "source": [
    "# example_message_ham = df[\"message\"][0]\n",
    "# example_message_spam = df[\"message\"][2]\n",
    "\n",
    "# example_message_ham"
   ]
  },
  {
   "cell_type": "code",
   "execution_count": 6,
   "metadata": {},
   "outputs": [],
   "source": [
    "# example_message_spam\n",
    "# df.drop(['predicted'], axis=1)\n",
    "# df.insert(['predicted'], )"
   ]
  },
  {
   "cell_type": "code",
   "execution_count": 7,
   "metadata": {},
   "outputs": [
    {
     "data": {
      "text/html": [
       "<div>\n",
       "<style scoped>\n",
       "    .dataframe tbody tr th:only-of-type {\n",
       "        vertical-align: middle;\n",
       "    }\n",
       "\n",
       "    .dataframe tbody tr th {\n",
       "        vertical-align: top;\n",
       "    }\n",
       "\n",
       "    .dataframe thead th {\n",
       "        text-align: right;\n",
       "    }\n",
       "</style>\n",
       "<table border=\"1\" class=\"dataframe\">\n",
       "  <thead>\n",
       "    <tr style=\"text-align: right;\">\n",
       "      <th></th>\n",
       "      <th>true_category</th>\n",
       "      <th>message</th>\n",
       "    </tr>\n",
       "  </thead>\n",
       "  <tbody>\n",
       "    <tr>\n",
       "      <td>0</td>\n",
       "      <td>ham</td>\n",
       "      <td>Go until jurong point, crazy.. Available only ...</td>\n",
       "    </tr>\n",
       "    <tr>\n",
       "      <td>1</td>\n",
       "      <td>ham</td>\n",
       "      <td>Ok lar... Joking wif u oni...</td>\n",
       "    </tr>\n",
       "    <tr>\n",
       "      <td>2</td>\n",
       "      <td>spam</td>\n",
       "      <td>Free entry in 2 a wkly comp to win FA Cup fina...</td>\n",
       "    </tr>\n",
       "    <tr>\n",
       "      <td>3</td>\n",
       "      <td>ham</td>\n",
       "      <td>U dun say so early hor... U c already then say...</td>\n",
       "    </tr>\n",
       "    <tr>\n",
       "      <td>4</td>\n",
       "      <td>ham</td>\n",
       "      <td>Nah I don't think he goes to usf, he lives aro...</td>\n",
       "    </tr>\n",
       "    <tr>\n",
       "      <td>...</td>\n",
       "      <td>...</td>\n",
       "      <td>...</td>\n",
       "    </tr>\n",
       "    <tr>\n",
       "      <td>4569</td>\n",
       "      <td>ham</td>\n",
       "      <td>hiya hows it going in sunny africa? hope u r a...</td>\n",
       "    </tr>\n",
       "    <tr>\n",
       "      <td>4570</td>\n",
       "      <td>ham</td>\n",
       "      <td>At WHAT TIME should i come tomorrow</td>\n",
       "    </tr>\n",
       "    <tr>\n",
       "      <td>4571</td>\n",
       "      <td>spam</td>\n",
       "      <td>Wanna have a laugh? Try CHIT-CHAT on your mobi...</td>\n",
       "    </tr>\n",
       "    <tr>\n",
       "      <td>4572</td>\n",
       "      <td>ham</td>\n",
       "      <td>CHA QUITEAMUZING THATSCOOL BABE,PROBPOP IN &amp; ...</td>\n",
       "    </tr>\n",
       "    <tr>\n",
       "      <td>4573</td>\n",
       "      <td>ham</td>\n",
       "      <td>Omg how did u know what I ate?</td>\n",
       "    </tr>\n",
       "  </tbody>\n",
       "</table>\n",
       "<p>4574 rows × 2 columns</p>\n",
       "</div>"
      ],
      "text/plain": [
       "     true_category                                            message\n",
       "0              ham  Go until jurong point, crazy.. Available only ...\n",
       "1              ham                      Ok lar... Joking wif u oni...\n",
       "2             spam  Free entry in 2 a wkly comp to win FA Cup fina...\n",
       "3              ham  U dun say so early hor... U c already then say...\n",
       "4              ham  Nah I don't think he goes to usf, he lives aro...\n",
       "...            ...                                                ...\n",
       "4569           ham  hiya hows it going in sunny africa? hope u r a...\n",
       "4570           ham                At WHAT TIME should i come tomorrow\n",
       "4571          spam  Wanna have a laugh? Try CHIT-CHAT on your mobi...\n",
       "4572           ham  CHA QUITEAMUZING THATSCOOL BABE,PROBPOP IN & ...\n",
       "4573           ham                     Omg how did u know what I ate?\n",
       "\n",
       "[4574 rows x 2 columns]"
      ]
     },
     "execution_count": 7,
     "metadata": {},
     "output_type": "execute_result"
    }
   ],
   "source": [
    "# from spam import algorithm_v1\n",
    "df"
   ]
  },
  {
   "cell_type": "code",
   "execution_count": 8,
   "metadata": {},
   "outputs": [],
   "source": [
    "# algorithm_v1(example_message_ham, cutoff)"
   ]
  },
  {
   "cell_type": "code",
   "execution_count": 9,
   "metadata": {},
   "outputs": [],
   "source": [
    "# algorithm_v1(example_message_spam)\n",
    "# print(df['true_category'][0])"
   ]
  },
  {
   "cell_type": "markdown",
   "metadata": {},
   "source": [
    "- add a new columns to `df` called `predicted_category`\n",
    "- for each row in `df`, if `df[\"predicted_category\"] == df[\"true_category\"]` then you were correct!\n",
    "- for example, if the number of columns that match is 4400, then the accuracy is 4400/4573"
   ]
  },
  {
   "cell_type": "code",
   "execution_count": 10,
   "metadata": {},
   "outputs": [],
   "source": [
    "# for cutoff in range(0, 100):\n",
    "#     get_accuracy(algorithm_v1, dataset, cutoff)"
   ]
  },
  {
   "cell_type": "code",
   "execution_count": 11,
   "metadata": {},
   "outputs": [],
   "source": [
    "from version_one import take_some_vals as test_one\n",
    "from version_two import take_some_vals as test_two\n",
    "from version_one import main_func as alg_v1\n",
    "from version_two import check as alg_v2\n",
    "# from spam import main_func as alg_v3\n",
    "# from words import check_again as alg_v4"
   ]
  },
  {
   "cell_type": "code",
   "execution_count": 12,
   "metadata": {},
   "outputs": [],
   "source": [
    "# # dont run this it'll be too much\n",
    "# for i in range(int(int(len(df))/100)):\n",
    "#     sms = df['message'][i]\n",
    "#     alg_v1(sms)"
   ]
  },
  {
   "cell_type": "code",
   "execution_count": 13,
   "metadata": {},
   "outputs": [],
   "source": [
    "# for i in range(int(int(len(df))/100)):\n",
    "# # for i in range(len(df)):\n",
    "#     sms = df['message'][i]\n",
    "#     label = df['true_category'][i]\n",
    "#     print(label)\n",
    "#     alg_v2(sms,label)\n",
    "#     print(' ')"
   ]
  },
  {
   "cell_type": "code",
   "execution_count": 14,
   "metadata": {},
   "outputs": [],
   "source": [
    "# for i in range(int(int(len(df))/100)):\n",
    "#     sms = df['message'][i]\n",
    "#     alg_v3(sms)"
   ]
  },
  {
   "cell_type": "code",
   "execution_count": 15,
   "metadata": {},
   "outputs": [],
   "source": [
    "# for i in range(int(int(len(df))/100)):\n",
    "#     sms = df['message'][i]\n",
    "#     label = df['true_category'][i]\n",
    "#     print(label)\n",
    "#     alg_v4(sms, label)"
   ]
  },
  {
   "cell_type": "code",
   "execution_count": 16,
   "metadata": {},
   "outputs": [],
   "source": [
    "df[\"predicted\"] = int()"
   ]
  },
  {
   "cell_type": "code",
   "execution_count": 17,
   "metadata": {},
   "outputs": [
    {
     "data": {
      "text/html": [
       "<div>\n",
       "<style scoped>\n",
       "    .dataframe tbody tr th:only-of-type {\n",
       "        vertical-align: middle;\n",
       "    }\n",
       "\n",
       "    .dataframe tbody tr th {\n",
       "        vertical-align: top;\n",
       "    }\n",
       "\n",
       "    .dataframe thead th {\n",
       "        text-align: right;\n",
       "    }\n",
       "</style>\n",
       "<table border=\"1\" class=\"dataframe\">\n",
       "  <thead>\n",
       "    <tr style=\"text-align: right;\">\n",
       "      <th></th>\n",
       "      <th>true_category</th>\n",
       "      <th>message</th>\n",
       "      <th>predicted</th>\n",
       "    </tr>\n",
       "  </thead>\n",
       "  <tbody>\n",
       "    <tr>\n",
       "      <td>0</td>\n",
       "      <td>ham</td>\n",
       "      <td>Go until jurong point, crazy.. Available only ...</td>\n",
       "      <td>0</td>\n",
       "    </tr>\n",
       "    <tr>\n",
       "      <td>1</td>\n",
       "      <td>ham</td>\n",
       "      <td>Ok lar... Joking wif u oni...</td>\n",
       "      <td>0</td>\n",
       "    </tr>\n",
       "    <tr>\n",
       "      <td>2</td>\n",
       "      <td>spam</td>\n",
       "      <td>Free entry in 2 a wkly comp to win FA Cup fina...</td>\n",
       "      <td>0</td>\n",
       "    </tr>\n",
       "    <tr>\n",
       "      <td>3</td>\n",
       "      <td>ham</td>\n",
       "      <td>U dun say so early hor... U c already then say...</td>\n",
       "      <td>0</td>\n",
       "    </tr>\n",
       "    <tr>\n",
       "      <td>4</td>\n",
       "      <td>ham</td>\n",
       "      <td>Nah I don't think he goes to usf, he lives aro...</td>\n",
       "      <td>0</td>\n",
       "    </tr>\n",
       "    <tr>\n",
       "      <td>...</td>\n",
       "      <td>...</td>\n",
       "      <td>...</td>\n",
       "      <td>...</td>\n",
       "    </tr>\n",
       "    <tr>\n",
       "      <td>4569</td>\n",
       "      <td>ham</td>\n",
       "      <td>hiya hows it going in sunny africa? hope u r a...</td>\n",
       "      <td>0</td>\n",
       "    </tr>\n",
       "    <tr>\n",
       "      <td>4570</td>\n",
       "      <td>ham</td>\n",
       "      <td>At WHAT TIME should i come tomorrow</td>\n",
       "      <td>0</td>\n",
       "    </tr>\n",
       "    <tr>\n",
       "      <td>4571</td>\n",
       "      <td>spam</td>\n",
       "      <td>Wanna have a laugh? Try CHIT-CHAT on your mobi...</td>\n",
       "      <td>0</td>\n",
       "    </tr>\n",
       "    <tr>\n",
       "      <td>4572</td>\n",
       "      <td>ham</td>\n",
       "      <td>CHA QUITEAMUZING THATSCOOL BABE,PROBPOP IN &amp; ...</td>\n",
       "      <td>0</td>\n",
       "    </tr>\n",
       "    <tr>\n",
       "      <td>4573</td>\n",
       "      <td>ham</td>\n",
       "      <td>Omg how did u know what I ate?</td>\n",
       "      <td>0</td>\n",
       "    </tr>\n",
       "  </tbody>\n",
       "</table>\n",
       "<p>4574 rows × 3 columns</p>\n",
       "</div>"
      ],
      "text/plain": [
       "     true_category                                            message  \\\n",
       "0              ham  Go until jurong point, crazy.. Available only ...   \n",
       "1              ham                      Ok lar... Joking wif u oni...   \n",
       "2             spam  Free entry in 2 a wkly comp to win FA Cup fina...   \n",
       "3              ham  U dun say so early hor... U c already then say...   \n",
       "4              ham  Nah I don't think he goes to usf, he lives aro...   \n",
       "...            ...                                                ...   \n",
       "4569           ham  hiya hows it going in sunny africa? hope u r a...   \n",
       "4570           ham                At WHAT TIME should i come tomorrow   \n",
       "4571          spam  Wanna have a laugh? Try CHIT-CHAT on your mobi...   \n",
       "4572           ham  CHA QUITEAMUZING THATSCOOL BABE,PROBPOP IN & ...   \n",
       "4573           ham                     Omg how did u know what I ate?   \n",
       "\n",
       "      predicted  \n",
       "0             0  \n",
       "1             0  \n",
       "2             0  \n",
       "3             0  \n",
       "4             0  \n",
       "...         ...  \n",
       "4569          0  \n",
       "4570          0  \n",
       "4571          0  \n",
       "4572          0  \n",
       "4573          0  \n",
       "\n",
       "[4574 rows x 3 columns]"
      ]
     },
     "execution_count": 17,
     "metadata": {},
     "output_type": "execute_result"
    }
   ],
   "source": [
    "df"
   ]
  },
  {
   "cell_type": "code",
   "execution_count": 19,
   "metadata": {},
   "outputs": [
    {
     "ename": "TypeError",
     "evalue": "unsupported operand type(s) for +=: 'int' and 'dict'",
     "output_type": "error",
     "traceback": [
      "\u001b[0;31m---------------------------------------------------------------------------\u001b[0m",
      "\u001b[0;31mTypeError\u001b[0m                                 Traceback (most recent call last)",
      "\u001b[0;32m<ipython-input-19-c3c7911ee90f>\u001b[0m in \u001b[0;36m<module>\u001b[0;34m\u001b[0m\n\u001b[1;32m      3\u001b[0m     \u001b[0msms\u001b[0m \u001b[0;34m=\u001b[0m \u001b[0mdf\u001b[0m\u001b[0;34m[\u001b[0m\u001b[0;34m'message'\u001b[0m\u001b[0;34m]\u001b[0m\u001b[0;34m[\u001b[0m\u001b[0mi\u001b[0m\u001b[0;34m]\u001b[0m\u001b[0;34m\u001b[0m\u001b[0;34m\u001b[0m\u001b[0m\n\u001b[1;32m      4\u001b[0m     \u001b[0mlabel\u001b[0m \u001b[0;34m=\u001b[0m \u001b[0mdf\u001b[0m\u001b[0;34m[\u001b[0m\u001b[0;34m'true_category'\u001b[0m\u001b[0;34m]\u001b[0m\u001b[0;34m[\u001b[0m\u001b[0mi\u001b[0m\u001b[0;34m]\u001b[0m\u001b[0;34m\u001b[0m\u001b[0;34m\u001b[0m\u001b[0m\n\u001b[0;32m----> 5\u001b[0;31m     \u001b[0mtest_one\u001b[0m\u001b[0;34m(\u001b[0m\u001b[0msms\u001b[0m\u001b[0;34m,\u001b[0m \u001b[0mlabel\u001b[0m\u001b[0;34m)\u001b[0m\u001b[0;34m\u001b[0m\u001b[0;34m\u001b[0m\u001b[0m\n\u001b[0m\u001b[1;32m      6\u001b[0m \u001b[0;34m\u001b[0m\u001b[0m\n\u001b[1;32m      7\u001b[0m \u001b[0;32mfor\u001b[0m \u001b[0mi\u001b[0m \u001b[0;32min\u001b[0m \u001b[0mrange\u001b[0m\u001b[0;34m(\u001b[0m\u001b[0mint\u001b[0m\u001b[0;34m(\u001b[0m\u001b[0mint\u001b[0m\u001b[0;34m(\u001b[0m\u001b[0mlen\u001b[0m\u001b[0;34m(\u001b[0m\u001b[0mdf\u001b[0m\u001b[0;34m)\u001b[0m\u001b[0;34m)\u001b[0m\u001b[0;34m/\u001b[0m\u001b[0;36m100\u001b[0m\u001b[0;34m)\u001b[0m\u001b[0;34m)\u001b[0m\u001b[0;34m:\u001b[0m\u001b[0;34m\u001b[0m\u001b[0;34m\u001b[0m\u001b[0m\n",
      "\u001b[0;32m~/Desktop/GitRepos/algorithms/spam_analysis/version_one.py\u001b[0m in \u001b[0;36mtake_some_vals\u001b[0;34m(sms, label)\u001b[0m\n\u001b[1;32m    133\u001b[0m     \u001b[0msms_list\u001b[0m\u001b[0;34m,\u001b[0m \u001b[0msms_dict\u001b[0m \u001b[0;34m=\u001b[0m \u001b[0mcrate_dict\u001b[0m\u001b[0;34m(\u001b[0m\u001b[0msms\u001b[0m\u001b[0;34m)\u001b[0m\u001b[0;34m\u001b[0m\u001b[0;34m\u001b[0m\u001b[0m\n\u001b[1;32m    134\u001b[0m     \u001b[0mmessage_list\u001b[0m\u001b[0;34m,\u001b[0m \u001b[0mmessage_dict\u001b[0m \u001b[0;34m=\u001b[0m \u001b[0mcompare_to_dict\u001b[0m\u001b[0;34m(\u001b[0m\u001b[0msms_list\u001b[0m\u001b[0;34m,\u001b[0m \u001b[0msms_dict\u001b[0m\u001b[0;34m)\u001b[0m\u001b[0;34m\u001b[0m\u001b[0;34m\u001b[0m\u001b[0m\n\u001b[0;32m--> 135\u001b[0;31m     \u001b[0mresult\u001b[0m \u001b[0;34m=\u001b[0m \u001b[0mspam_or_ham\u001b[0m\u001b[0;34m(\u001b[0m\u001b[0mmessage_list\u001b[0m\u001b[0;34m,\u001b[0m \u001b[0mmessage_dict\u001b[0m\u001b[0;34m)\u001b[0m\u001b[0;34m\u001b[0m\u001b[0;34m\u001b[0m\u001b[0m\n\u001b[0m\u001b[1;32m    136\u001b[0m     \u001b[0mright_or_wrong\u001b[0m\u001b[0;34m(\u001b[0m\u001b[0msms_list\u001b[0m\u001b[0;34m,\u001b[0m \u001b[0mresult\u001b[0m\u001b[0;34m,\u001b[0m \u001b[0mlabel\u001b[0m\u001b[0;34m)\u001b[0m\u001b[0;34m\u001b[0m\u001b[0;34m\u001b[0m\u001b[0m\n\u001b[1;32m    137\u001b[0m \u001b[0;34m\u001b[0m\u001b[0m\n",
      "\u001b[0;32m~/Desktop/GitRepos/algorithms/spam_analysis/version_one.py\u001b[0m in \u001b[0;36mspam_or_ham\u001b[0;34m(sms, sms_dict)\u001b[0m\n\u001b[1;32m     74\u001b[0m         \u001b[0mword\u001b[0m \u001b[0;34m=\u001b[0m \u001b[0mkey\u001b[0m\u001b[0;34m\u001b[0m\u001b[0;34m\u001b[0m\u001b[0m\n\u001b[1;32m     75\u001b[0m         \u001b[0mnested_spam_val\u001b[0m \u001b[0;34m=\u001b[0m \u001b[0msms_dict\u001b[0m\u001b[0;34m[\u001b[0m\u001b[0mword\u001b[0m\u001b[0;34m]\u001b[0m\u001b[0;34m[\u001b[0m\u001b[0;34m'spam'\u001b[0m\u001b[0;34m]\u001b[0m\u001b[0;34m\u001b[0m\u001b[0;34m\u001b[0m\u001b[0m\n\u001b[0;32m---> 76\u001b[0;31m         \u001b[0mspam_val\u001b[0m \u001b[0;34m+=\u001b[0m \u001b[0mnested_spam_val\u001b[0m\u001b[0;34m\u001b[0m\u001b[0;34m\u001b[0m\u001b[0m\n\u001b[0m\u001b[1;32m     77\u001b[0m     \u001b[0;32mfor\u001b[0m \u001b[0mkey\u001b[0m \u001b[0;32min\u001b[0m \u001b[0msms_dict\u001b[0m\u001b[0;34m:\u001b[0m\u001b[0;34m\u001b[0m\u001b[0;34m\u001b[0m\u001b[0m\n\u001b[1;32m     78\u001b[0m         \u001b[0mword\u001b[0m \u001b[0;34m=\u001b[0m \u001b[0mkey\u001b[0m\u001b[0;34m\u001b[0m\u001b[0;34m\u001b[0m\u001b[0m\n",
      "\u001b[0;31mTypeError\u001b[0m: unsupported operand type(s) for +=: 'int' and 'dict'"
     ]
    }
   ],
   "source": [
    "#####EDIT DRIVER FUNCTIONS BEFORE RUNNING\n",
    "for i in range(int(int(len(df))/100)):\n",
    "    sms = df['message'][i]\n",
    "    label = df['true_category'][i]\n",
    "    test_one(sms, label)\n",
    "\n",
    "for i in range(int(int(len(df))/100)):\n",
    "    sms = df['message'][i]\n",
    "    label = df['true_category'][i]\n",
    "    test_two(sms, label)\n",
    "\n",
    "\n",
    "for i in range(len(df)):\n",
    "    sms = df['message'][i]\n",
    "    label = df['true_category'][i]\n",
    "    alg_v1(sms, label)\n",
    "\n",
    "\n",
    "for i in range(len(df)):\n",
    "    sms = df['message'][i]\n",
    "    label = df['true_category'][i]\n",
    "    alg_v2(sms, label)"
   ]
  },
  {
   "cell_type": "code",
   "execution_count": null,
   "metadata": {},
   "outputs": [],
   "source": [
    "df['message']"
   ]
  },
  {
   "cell_type": "code",
   "execution_count": null,
   "metadata": {},
   "outputs": [],
   "source": []
  },
  {
   "cell_type": "code",
   "execution_count": null,
   "metadata": {},
   "outputs": [],
   "source": []
  },
  {
   "cell_type": "code",
   "execution_count": null,
   "metadata": {},
   "outputs": [],
   "source": []
  }
 ],
 "metadata": {
  "kernelspec": {
   "display_name": "Python 3",
   "language": "python",
   "name": "python3"
  },
  "language_info": {
   "codemirror_mode": {
    "name": "ipython",
    "version": 3
   },
   "file_extension": ".py",
   "mimetype": "text/x-python",
   "name": "python",
   "nbconvert_exporter": "python",
   "pygments_lexer": "ipython3",
   "version": "3.7.3"
  }
 },
 "nbformat": 4,
 "nbformat_minor": 4
}
