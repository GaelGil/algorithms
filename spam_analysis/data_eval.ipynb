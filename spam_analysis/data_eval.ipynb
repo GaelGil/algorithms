{
 "cells": [
  {
   "cell_type": "code",
   "execution_count": 1,
   "metadata": {},
   "outputs": [],
   "source": [
    "import pandas as pd"
   ]
  },
  {
   "cell_type": "code",
   "execution_count": 2,
   "metadata": {},
   "outputs": [
    {
     "name": "stdout",
     "output_type": "stream",
     "text": [
      "train\n"
     ]
    }
   ],
   "source": [
    "! ls data/"
   ]
  },
  {
   "cell_type": "code",
   "execution_count": 3,
   "metadata": {},
   "outputs": [],
   "source": [
    "df = pd.read_csv(\"data/train\", sep=\"\\t\", names=[\"true_category\", \"message\"])"
   ]
  },
  {
   "cell_type": "code",
   "execution_count": 4,
   "metadata": {},
   "outputs": [
    {
     "data": {
      "text/html": [
       "<div>\n",
       "<style scoped>\n",
       "    .dataframe tbody tr th:only-of-type {\n",
       "        vertical-align: middle;\n",
       "    }\n",
       "\n",
       "    .dataframe tbody tr th {\n",
       "        vertical-align: top;\n",
       "    }\n",
       "\n",
       "    .dataframe thead th {\n",
       "        text-align: right;\n",
       "    }\n",
       "</style>\n",
       "<table border=\"1\" class=\"dataframe\">\n",
       "  <thead>\n",
       "    <tr style=\"text-align: right;\">\n",
       "      <th></th>\n",
       "      <th>true_category</th>\n",
       "      <th>message</th>\n",
       "    </tr>\n",
       "  </thead>\n",
       "  <tbody>\n",
       "    <tr>\n",
       "      <th>0</th>\n",
       "      <td>ham</td>\n",
       "      <td>Go until jurong point, crazy.. Available only ...</td>\n",
       "    </tr>\n",
       "    <tr>\n",
       "      <th>1</th>\n",
       "      <td>ham</td>\n",
       "      <td>Ok lar... Joking wif u oni...</td>\n",
       "    </tr>\n",
       "    <tr>\n",
       "      <th>2</th>\n",
       "      <td>spam</td>\n",
       "      <td>Free entry in 2 a wkly comp to win FA Cup fina...</td>\n",
       "    </tr>\n",
       "    <tr>\n",
       "      <th>3</th>\n",
       "      <td>ham</td>\n",
       "      <td>U dun say so early hor... U c already then say...</td>\n",
       "    </tr>\n",
       "    <tr>\n",
       "      <th>4</th>\n",
       "      <td>ham</td>\n",
       "      <td>Nah I don't think he goes to usf, he lives aro...</td>\n",
       "    </tr>\n",
       "    <tr>\n",
       "      <th>...</th>\n",
       "      <td>...</td>\n",
       "      <td>...</td>\n",
       "    </tr>\n",
       "    <tr>\n",
       "      <th>4569</th>\n",
       "      <td>ham</td>\n",
       "      <td>hiya hows it going in sunny africa? hope u r a...</td>\n",
       "    </tr>\n",
       "    <tr>\n",
       "      <th>4570</th>\n",
       "      <td>ham</td>\n",
       "      <td>At WHAT TIME should i come tomorrow</td>\n",
       "    </tr>\n",
       "    <tr>\n",
       "      <th>4571</th>\n",
       "      <td>spam</td>\n",
       "      <td>Wanna have a laugh? Try CHIT-CHAT on your mobi...</td>\n",
       "    </tr>\n",
       "    <tr>\n",
       "      <th>4572</th>\n",
       "      <td>ham</td>\n",
       "      <td>CHA QUITEAMUZING THATSCOOL BABE,PROBPOP IN &amp; ...</td>\n",
       "    </tr>\n",
       "    <tr>\n",
       "      <th>4573</th>\n",
       "      <td>ham</td>\n",
       "      <td>Omg how did u know what I ate?</td>\n",
       "    </tr>\n",
       "  </tbody>\n",
       "</table>\n",
       "<p>4574 rows × 2 columns</p>\n",
       "</div>"
      ],
      "text/plain": [
       "     true_category                                            message\n",
       "0              ham  Go until jurong point, crazy.. Available only ...\n",
       "1              ham                      Ok lar... Joking wif u oni...\n",
       "2             spam  Free entry in 2 a wkly comp to win FA Cup fina...\n",
       "3              ham  U dun say so early hor... U c already then say...\n",
       "4              ham  Nah I don't think he goes to usf, he lives aro...\n",
       "...            ...                                                ...\n",
       "4569           ham  hiya hows it going in sunny africa? hope u r a...\n",
       "4570           ham                At WHAT TIME should i come tomorrow\n",
       "4571          spam  Wanna have a laugh? Try CHIT-CHAT on your mobi...\n",
       "4572           ham  CHA QUITEAMUZING THATSCOOL BABE,PROBPOP IN & ...\n",
       "4573           ham                     Omg how did u know what I ate?\n",
       "\n",
       "[4574 rows x 2 columns]"
      ]
     },
     "execution_count": 4,
     "metadata": {},
     "output_type": "execute_result"
    }
   ],
   "source": [
    "df"
   ]
  },
  {
   "cell_type": "code",
   "execution_count": 5,
   "metadata": {},
   "outputs": [],
   "source": [
    "# example_message_ham = df[\"message\"][0]\n",
    "# example_message_spam = df[\"message\"][2]\n",
    "\n",
    "# example_message_ham"
   ]
  },
  {
   "cell_type": "code",
   "execution_count": 6,
   "metadata": {},
   "outputs": [],
   "source": [
    "# example_message_spam\n",
    "# df.drop(['predicted'], axis=1)\n",
    "# df.insert(['predicted'], )"
   ]
  },
  {
   "cell_type": "code",
   "execution_count": 7,
   "metadata": {},
   "outputs": [
    {
     "data": {
      "text/html": [
       "<div>\n",
       "<style scoped>\n",
       "    .dataframe tbody tr th:only-of-type {\n",
       "        vertical-align: middle;\n",
       "    }\n",
       "\n",
       "    .dataframe tbody tr th {\n",
       "        vertical-align: top;\n",
       "    }\n",
       "\n",
       "    .dataframe thead th {\n",
       "        text-align: right;\n",
       "    }\n",
       "</style>\n",
       "<table border=\"1\" class=\"dataframe\">\n",
       "  <thead>\n",
       "    <tr style=\"text-align: right;\">\n",
       "      <th></th>\n",
       "      <th>true_category</th>\n",
       "      <th>message</th>\n",
       "    </tr>\n",
       "  </thead>\n",
       "  <tbody>\n",
       "    <tr>\n",
       "      <th>0</th>\n",
       "      <td>ham</td>\n",
       "      <td>Go until jurong point, crazy.. Available only ...</td>\n",
       "    </tr>\n",
       "    <tr>\n",
       "      <th>1</th>\n",
       "      <td>ham</td>\n",
       "      <td>Ok lar... Joking wif u oni...</td>\n",
       "    </tr>\n",
       "    <tr>\n",
       "      <th>2</th>\n",
       "      <td>spam</td>\n",
       "      <td>Free entry in 2 a wkly comp to win FA Cup fina...</td>\n",
       "    </tr>\n",
       "    <tr>\n",
       "      <th>3</th>\n",
       "      <td>ham</td>\n",
       "      <td>U dun say so early hor... U c already then say...</td>\n",
       "    </tr>\n",
       "    <tr>\n",
       "      <th>4</th>\n",
       "      <td>ham</td>\n",
       "      <td>Nah I don't think he goes to usf, he lives aro...</td>\n",
       "    </tr>\n",
       "    <tr>\n",
       "      <th>...</th>\n",
       "      <td>...</td>\n",
       "      <td>...</td>\n",
       "    </tr>\n",
       "    <tr>\n",
       "      <th>4569</th>\n",
       "      <td>ham</td>\n",
       "      <td>hiya hows it going in sunny africa? hope u r a...</td>\n",
       "    </tr>\n",
       "    <tr>\n",
       "      <th>4570</th>\n",
       "      <td>ham</td>\n",
       "      <td>At WHAT TIME should i come tomorrow</td>\n",
       "    </tr>\n",
       "    <tr>\n",
       "      <th>4571</th>\n",
       "      <td>spam</td>\n",
       "      <td>Wanna have a laugh? Try CHIT-CHAT on your mobi...</td>\n",
       "    </tr>\n",
       "    <tr>\n",
       "      <th>4572</th>\n",
       "      <td>ham</td>\n",
       "      <td>CHA QUITEAMUZING THATSCOOL BABE,PROBPOP IN &amp; ...</td>\n",
       "    </tr>\n",
       "    <tr>\n",
       "      <th>4573</th>\n",
       "      <td>ham</td>\n",
       "      <td>Omg how did u know what I ate?</td>\n",
       "    </tr>\n",
       "  </tbody>\n",
       "</table>\n",
       "<p>4574 rows × 2 columns</p>\n",
       "</div>"
      ],
      "text/plain": [
       "     true_category                                            message\n",
       "0              ham  Go until jurong point, crazy.. Available only ...\n",
       "1              ham                      Ok lar... Joking wif u oni...\n",
       "2             spam  Free entry in 2 a wkly comp to win FA Cup fina...\n",
       "3              ham  U dun say so early hor... U c already then say...\n",
       "4              ham  Nah I don't think he goes to usf, he lives aro...\n",
       "...            ...                                                ...\n",
       "4569           ham  hiya hows it going in sunny africa? hope u r a...\n",
       "4570           ham                At WHAT TIME should i come tomorrow\n",
       "4571          spam  Wanna have a laugh? Try CHIT-CHAT on your mobi...\n",
       "4572           ham  CHA QUITEAMUZING THATSCOOL BABE,PROBPOP IN & ...\n",
       "4573           ham                     Omg how did u know what I ate?\n",
       "\n",
       "[4574 rows x 2 columns]"
      ]
     },
     "execution_count": 7,
     "metadata": {},
     "output_type": "execute_result"
    }
   ],
   "source": [
    "# from spam import algorithm_v1\n",
    "df"
   ]
  },
  {
   "cell_type": "code",
   "execution_count": 8,
   "metadata": {},
   "outputs": [],
   "source": [
    "# algorithm_v1(example_message_ham, cutoff)"
   ]
  },
  {
   "cell_type": "code",
   "execution_count": 9,
   "metadata": {},
   "outputs": [],
   "source": [
    "# algorithm_v1(example_message_spam)\n",
    "# print(df['true_category'][0])"
   ]
  },
  {
   "cell_type": "markdown",
   "metadata": {},
   "source": [
    "- add a new columns to `df` called `predicted_category`\n",
    "- for each row in `df`, if `df[\"predicted_category\"] == df[\"true_category\"]` then you were correct!\n",
    "- for example, if the number of columns that match is 4400, then the accuracy is 4400/4573"
   ]
  },
  {
   "cell_type": "code",
   "execution_count": 10,
   "metadata": {},
   "outputs": [],
   "source": [
    "# for cutoff in range(0, 100):\n",
    "#     get_accuracy(algorithm_v1, dataset, cutoff)"
   ]
  },
  {
   "cell_type": "code",
   "execution_count": 11,
   "metadata": {},
   "outputs": [],
   "source": [
    "# from version_one import take_some_vals as test_one\n",
    "# from version_two import take_some_vals as test_two\n",
    "# from version_one import main_func as alg_v1\n",
    "# from version_two import check as alg_v2\n",
    "# from version_one import SPAM_DICT as spam_dict\n",
    "# from spam import main_func as alg_v3\n",
    "# from words import check_again as alg_v4"
   ]
  },
  {
   "cell_type": "code",
   "execution_count": 12,
   "metadata": {},
   "outputs": [],
   "source": [
    "# # dont run this it'll be too much\n",
    "# for i in range(int(int(len(df))/100)):\n",
    "#     sms = df['message'][i]\n",
    "#     alg_v1(sms)"
   ]
  },
  {
   "cell_type": "code",
   "execution_count": 13,
   "metadata": {},
   "outputs": [],
   "source": [
    "# for i in range(int(int(len(df))/100)):\n",
    "# # for i in range(len(df)):\n",
    "#     sms = df['message'][i]\n",
    "#     label = df['true_category'][i]\n",
    "#     print(label)\n",
    "#     alg_v2(sms,label)\n",
    "#     print(' ')"
   ]
  },
  {
   "cell_type": "code",
   "execution_count": 14,
   "metadata": {},
   "outputs": [],
   "source": [
    "# for i in range(int(int(len(df))/100)):\n",
    "#     sms = df['message'][i]\n",
    "#     alg_v3(sms)"
   ]
  },
  {
   "cell_type": "code",
   "execution_count": 15,
   "metadata": {},
   "outputs": [],
   "source": [
    "# for i in range(int(int(len(df))/100)):\n",
    "#     sms = df['message'][i]\n",
    "#     label = df['true_category'][i]\n",
    "#     print(label)\n",
    "#     alg_v4(sms, label)"
   ]
  },
  {
   "cell_type": "code",
   "execution_count": 16,
   "metadata": {},
   "outputs": [],
   "source": [
    "# df[\"predicted\"] = int()"
   ]
  },
  {
   "cell_type": "code",
   "execution_count": 17,
   "metadata": {},
   "outputs": [],
   "source": [
    "# df"
   ]
  },
  {
   "cell_type": "code",
   "execution_count": 18,
   "metadata": {},
   "outputs": [
    {
     "data": {
      "text/plain": [
       "614"
      ]
     },
     "execution_count": 18,
     "metadata": {},
     "output_type": "execute_result"
    }
   ],
   "source": [
    "# spam_dict\n",
    "# spam =  df.groupby('true_category').['spam']\n",
    "# int(int(len(df))/200)\n",
    "spam = df.groupby(['true_category']).get_group('spam')\n",
    "len(spam)"
   ]
  },
  {
   "cell_type": "code",
   "execution_count": 19,
   "metadata": {},
   "outputs": [
    {
     "data": {
      "text/plain": [
       "3960"
      ]
     },
     "execution_count": 19,
     "metadata": {},
     "output_type": "execute_result"
    }
   ],
   "source": [
    "ham = df.groupby(['true_category']).get_group('ham')\n",
    "len(ham)"
   ]
  },
  {
   "cell_type": "code",
   "execution_count": 20,
   "metadata": {},
   "outputs": [],
   "source": [
    "# for i in range(int(int(len(df))/100)):\n",
    "#     sms = df['message'][i]\n",
    "#     label = df['true_category'][i]\n",
    "#     test_two(sms)\n",
    "\n",
    "# for i in range(50):\n",
    "#     sms = df['message'][i]\n",
    "#     label = df['true_category'][i]\n",
    "#     alg_v2(sms)\n"
   ]
  },
  {
   "cell_type": "code",
   "execution_count": 21,
   "metadata": {},
   "outputs": [],
   "source": [
    "#####EDIT DRIVER FUNCTIONS BEFORE RUNNING\n",
    "# for i in range(50):\n",
    "#     sms = df['message'][i]\n",
    "#     label = df['true_category'][i]\n",
    "#     test_one(sms, label)\n",
    "\n",
    "\n",
    "# correct = 0\n",
    "# wrong = 0\n",
    "# for i in range(51, 4000):\n",
    "#     sms = df['message'][i]\n",
    "#     label = df['true_category'][i]\n",
    "#     result = alg_v1(sms)\n",
    "#     if label == 'spam' and result == 'spam':\n",
    "#         print('spam correct')\n",
    "#     elif label == 'spam' and result != 'spam':\n",
    "#         print('incorrect spam')\n",
    "#     elif result == label or result == None:\n",
    "# #         print('Correct')\n",
    "#         correct += 1\n",
    "#     elif result != label:\n",
    "#         wrong += 1\n",
    "#         pass\n",
    "\n",
    "# print(correct)\n",
    "# print(wrong)\n",
    "# print(len(df))"
   ]
  },
  {
   "cell_type": "code",
   "execution_count": 22,
   "metadata": {},
   "outputs": [],
   "source": [
    "from version_two import train_func\n",
    "from version_two import test_func"
   ]
  },
  {
   "cell_type": "code",
   "execution_count": 24,
   "metadata": {},
   "outputs": [
    {
     "name": "stdout",
     "output_type": "stream",
     "text": [
      "hey\n",
      "HAMM\n",
      "168\n",
      "SPAM\n",
      "10\n",
      "how\n",
      "HAMM\n",
      "454\n",
      "SPAM\n",
      "12\n",
      "are\n",
      "HAMM\n",
      "698\n",
      "SPAM\n",
      "128\n",
      "you\n",
      "HAMM\n",
      "3106\n",
      "SPAM\n",
      "480\n",
      "how\n",
      "HAMM\n",
      "454\n",
      "SPAM\n",
      "12\n",
      "have\n",
      "HAMM\n",
      "736\n",
      "SPAM\n",
      "220\n",
      "you\n",
      "HAMM\n",
      "3106\n",
      "SPAM\n",
      "480\n",
      "been\n",
      "HAMM\n",
      "146\n",
      "SPAM\n",
      "74\n",
      "{'hey': {'spam': 0.056179775280898875, 'ham': 0.9438202247191011}, 'how': {'spam': 0.02575107296137339, 'ham': 0.9742489270386266}, 'are': {'spam': 0.1549636803874092, 'ham': 0.8450363196125908}, 'you': {'spam': 0.13385387618516453, 'ham': 0.8661461238148355}, 'have': {'spam': 0.2301255230125523, 'ham': 0.7698744769874477}, 'been': {'spam': 0.33636363636363636, 'ham': 0.6636363636363637}}\n",
      "ham\n",
      "you\n",
      "HAMM\n",
      "3106\n",
      "SPAM\n",
      "480\n",
      "have\n",
      "HAMM\n",
      "736\n",
      "SPAM\n",
      "220\n",
      "won\n",
      "HAMM\n",
      "0\n",
      "SPAM\n",
      "116\n",
      "a\n",
      "HAMM\n",
      "1770\n",
      "SPAM\n",
      "630\n",
      "free\n",
      "HAMM\n",
      "94\n",
      "SPAM\n",
      "370\n",
      "something\n",
      "HAMM\n",
      "102\n",
      "SPAM\n",
      "0\n",
      "{'you': {'spam': 0.13385387618516453, 'ham': 0.8661461238148355}, 'have': {'spam': 0.2301255230125523, 'ham': 0.7698744769874477}, 'won': {'spam': 1.0, 'ham': 0.0}, 'a': {'spam': 0.2625, 'ham': 0.7375}, 'free': {'spam': 0.7974137931034483, 'ham': 0.2025862068965517}, 'something': {'spam': 0.0, 'ham': 1.0}}\n",
      "ham\n"
     ]
    }
   ],
   "source": [
    "spam = df.groupby(['true_category']).get_group('spam')\n",
    "spam = len(spam)\n",
    "ham = df.groupby(['true_category']).get_group('ham')\n",
    "ham = len(ham)\n",
    "len_df = len(df)\n",
    "SPAM_PROB = float(spam/len_df)\n",
    "HAM_PROB = float(ham/len_df)\n",
    "\n",
    "for i in range(len(df)):\n",
    "    sms = df['message'][i]\n",
    "    label = df['true_category'][i]\n",
    "    res = train_func(label, sms)\n",
    "    \n",
    "# for i in range(len(df)):\n",
    "#     sms = df['message'][i]\n",
    "#     test_one(sms, HAM_PROB, SPAM_PROB)\n",
    "sms = 'hey how are you, how have you been'\n",
    "other_sms = 'you have won a free something'\n",
    "\n",
    "print(test_func(sms, HAM_PROB, SPAM_PROB))\n",
    "print(test_func(other_sms, HAM_PROB, SPAM_PROB))"
   ]
  },
  {
   "cell_type": "code",
   "execution_count": null,
   "metadata": {},
   "outputs": [],
   "source": []
  }
 ],
 "metadata": {
  "kernelspec": {
   "display_name": "Python 3",
   "language": "python",
   "name": "python3"
  },
  "language_info": {
   "codemirror_mode": {
    "name": "ipython",
    "version": 3
   },
   "file_extension": ".py",
   "mimetype": "text/x-python",
   "name": "python",
   "nbconvert_exporter": "python",
   "pygments_lexer": "ipython3",
   "version": "3.7.3"
  }
 },
 "nbformat": 4,
 "nbformat_minor": 4
}
